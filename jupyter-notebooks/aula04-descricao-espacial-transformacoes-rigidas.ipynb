{
 "cells": [
  {
   "cell_type": "code",
   "execution_count": 1,
   "metadata": {},
   "outputs": [],
   "source": [
    "import numpy as np\n",
    "import matplotlib.pyplot as plt"
   ]
  },
  {
   "cell_type": "markdown",
   "metadata": {},
   "source": [
    "# Representação"
   ]
  },
  {
   "cell_type": "markdown",
   "metadata": {},
   "source": [
    "## Posição"
   ]
  },
  {
   "cell_type": "code",
   "execution_count": 9,
   "metadata": {},
   "outputs": [
    {
     "data": {
      "text/plain": [
       "(0.0, 5.0, 0.0, 5.0)"
      ]
     },
     "execution_count": 9,
     "metadata": {},
     "output_type": "execute_result"
    },
    {
     "data": {
      "image/png": "[encoded data removed]",
      "text/plain": [
       "<Figure size 432x288 with 1 Axes>"
      ]
     },
     "metadata": {
      "needs_background": "light"
     },
     "output_type": "display_data"
    }
   ],
   "source": [
    "# Definindo pois pontos (vetores)\n",
    "# Lembrando que os valores representam as componentes\n",
    "p = np.array([1, 2])\n",
    "q = np.array([4, 3])\n",
    "\n",
    "# Origem\n",
    "origin = np.array([0, 0])\n",
    "\n",
    "# Plotando os pontos e a representação vetorial\n",
    "plt.figure()\n",
    "plt.plot(p[0], p[1], 'ro')\n",
    "plt.quiver(*origin, *p, color='r', angles='xy', scale_units='xy', scale=1)\n",
    "\n",
    "plt.plot(q[0], q[1], 'bo')\n",
    "plt.quiver(*origin, *q, color='b', angles='xy', scale_units='xy', scale=1)\n",
    "\n",
    "plt.axis('scaled')\n",
    "plt.axis((0, 5, 0, 5))"
   ]
  },
  {
   "cell_type": "markdown",
   "metadata": {},
   "source": [
    "## Direção"
   ]
  },
  {
   "cell_type": "code",
   "execution_count": 19,
   "metadata": {},
   "outputs": [
    {
     "name": "stdout",
     "output_type": "stream",
     "text": [
      "[3 1]\n",
      "3.1622776601683795\n",
      "0.3217505543966422\n",
      "[0.9486833  0.31622777]\n"
     ]
    },
    {
     "data": {
      "text/plain": [
       "(0.0, 5.0, 0.0, 5.0)"
      ]
     },
     "execution_count": 19,
     "metadata": {},
     "output_type": "execute_result"
    },
    {
     "data": {
      "image/png": "[encoded data removed]",
      "text/plain": [
       "<Figure size 432x288 with 1 Axes>"
      ]
     },
     "metadata": {
      "needs_background": "light"
     },
     "output_type": "display_data"
    }
   ],
   "source": [
    "v = q - p\n",
    "print(v)\n",
    "\n",
    "# Norma (magnitude)\n",
    "m = np.linalg.norm(v)\n",
    "print(m)\n",
    "\n",
    "# Orientação\n",
    "a = np.arctan2(v[1], v[0])\n",
    "print(a)\n",
    "\n",
    "# Vetor unitário (direção)\n",
    "u = v / m\n",
    "print(u)\n",
    "\n",
    "\n",
    "plt.figure()\n",
    "plt.plot(p[0], p[1], 'ro')\n",
    "plt.plot(q[0], q[1], 'bo')\n",
    "\n",
    "# Plotando o vetor deslocamento\n",
    "plt.quiver(*p, *v, color='k', angles='xy', scale_units='xy', scale=1)\n",
    "\n",
    "# Plotando o vetor direção\n",
    "plt.quiver(*p, *u, color='r', angles='xy', scale_units='xy', scale=1)\n",
    "\n",
    "plt.axis('scaled')\n",
    "plt.axis((0, 5, 0, 5))"
   ]
  },
  {
   "cell_type": "markdown",
   "metadata": {},
   "source": [
    "## Referencial"
   ]
  },
  {
   "cell_type": "code",
   "execution_count": 28,
   "metadata": {},
   "outputs": [
    {
     "data": {
      "text/plain": [
       "(0.0, 5.0, 0.0, 5.0)"
      ]
     },
     "execution_count": 28,
     "metadata": {},
     "output_type": "execute_result"
    },
    {
     "data": {
      "image/png": "[encoded data removed]",
      "text/plain": [
       "<Figure size 432x288 with 1 Axes>"
      ]
     },
     "metadata": {
      "needs_background": "light"
     },
     "output_type": "display_data"
    }
   ],
   "source": [
    "# Matriz de rotação em relação a Z\n",
    "def Rz(theta):\n",
    "  \n",
    "    return np.array([[ np.cos(theta), -np.sin(theta), 0 ],\n",
    "                      [ np.sin(theta), np.cos(theta) , 0 ],\n",
    "                      [ 0            , 0             , 1 ]])\n",
    "\n",
    "\n",
    "# Plota um referencial no plano\n",
    "def plot_frame(Porg, R, c=None):\n",
    "    \n",
    "    axis_size = 1.0    \n",
    "    axes = axis_size*R\n",
    "    \n",
    "    x_axis = np.array(axes[0:2,0])\n",
    "    y_axis = np.array(axes[0:2,1])\n",
    "    \n",
    "    if c == None:\n",
    "        c = ['r', 'g']\n",
    "    \n",
    "    # X\n",
    "    plt.quiver(*Porg[0:2], *x_axis, color=c[0], angles='xy', scale_units='xy', scale=1)\n",
    "    \n",
    "    # Y\n",
    "    plt.quiver(*Porg[0:2], *y_axis, color=c[1], angles='xy', scale_units='xy', scale=1)\n",
    "    \n",
    " \n",
    "plt.figure()\n",
    "\n",
    "# Frame A\n",
    "Porg = np.array([2, 1, 0])    \n",
    "R = Rz(np.deg2rad(45))\n",
    "plot_frame(Porg, R)\n",
    "\n",
    "# Frame B\n",
    "Porg = np.array([3, 3, 0])    \n",
    "R = Rz(np.deg2rad(0))\n",
    "plot_frame(Porg, R)\n",
    "\n",
    "plt.axis('scaled')\n",
    "plt.axis((0, 5, 0, 5))"
   ]
  },
  {
   "cell_type": "markdown",
   "metadata": {},
   "source": [
    "# Mapeamento"
   ]
  },
  {
   "cell_type": "markdown",
   "metadata": {},
   "source": [
    "## Translação"
   ]
  },
  {
   "cell_type": "code",
   "execution_count": 5,
   "metadata": {},
   "outputs": [
    {
     "name": "stdout",
     "output_type": "stream",
     "text": [
      "[11  5  5]\n"
     ]
    }
   ],
   "source": [
    "pb = np.array([4, 3, 5])\n",
    "\n",
    "pa_borg = np.array([7, 2, 0])\n",
    "\n",
    "pa = pb + pa_borg\n",
    "print(pa)"
   ]
  },
  {
   "cell_type": "markdown",
   "metadata": {},
   "source": [
    "## Rotação"
   ]
  },
  {
   "cell_type": "code",
   "execution_count": 6,
   "metadata": {},
   "outputs": [
    {
     "name": "stdout",
     "output_type": "stream",
     "text": [
      "[-1.          1.73205081  0.        ]\n",
      "[-1.          1.73205081  0.        ]\n",
      "[-1.          1.73205081  0.        ]\n"
     ]
    }
   ],
   "source": [
    "pb = np.array([0, 2, 0])\n",
    "\n",
    "theta = np.deg2rad(30)\n",
    "\n",
    "# Qual operador de multiplicação utilizar?\n",
    "# https://blog.finxter.com/numpy-matmul-operator/\n",
    "\n",
    "pa = Rz(theta).dot(pb)\n",
    "print(pa)\n",
    "\n",
    "pa = np.matmul(Rz(theta), pb)\n",
    "print(pa)\n",
    "\n",
    "pa = Rz(theta) @ pb\n",
    "print(pa)"
   ]
  },
  {
   "cell_type": "markdown",
   "metadata": {},
   "source": [
    "## Euler angles"
   ]
  },
  {
   "cell_type": "code",
   "execution_count": 26,
   "metadata": {},
   "outputs": [
    {
     "name": "stdout",
     "output_type": "stream",
     "text": [
      "[[ 4.32978028e-17 -5.00000000e-01  8.66025404e-01]\n",
      " [ 7.07106781e-01  6.12372436e-01  3.53553391e-01]\n",
      " [-7.07106781e-01  6.12372436e-01  3.53553391e-01]]\n",
      "1.5707963267948966 1.5707963267948966\n",
      "0.7853981633974483 0.7853981633974483\n",
      "1.0471975511965976 1.0471975511965976\n"
     ]
    }
   ],
   "source": [
    "def Rx(theta):\n",
    " \n",
    "    return np.array([[  1, 0            , 0           ],\n",
    "                      [ 0, np.cos(theta),-np.sin(theta)],\n",
    "                      [ 0, np.sin(theta), np.cos(theta)]])\n",
    "  \n",
    "def Ry(theta):\n",
    " \n",
    "    return np.array([[  np.cos(theta), 0, np.sin(theta)],\n",
    "                      [ 0            , 1, 0           ],\n",
    "                      [-np.sin(theta), 0, np.cos(theta)]])\n",
    "\n",
    "\n",
    "alpha = np.pi/2\n",
    "beta = np.pi/4\n",
    "gamma = np.pi/3\n",
    "\n",
    "R = Rz(alpha) @ Ry(beta) @ Rx(gamma)\n",
    "print(R)\n",
    "\n",
    "cB = np.sqrt(R[0,0]**2 + R[1,0]**2)\n",
    "\n",
    "# Obtendo os Euler Angles a partir da matriz\n",
    "beta_calc = np.arctan2(-R[2,0], cB)\n",
    "alpha_calc = np.arctan2(R[1,0]/cB, R[0,0]/cB)\n",
    "gamma_calc = np.arctan2(R[2,1]/cB, R[2,2]/cB)\n",
    "\n",
    "print(alpha, alpha_calc)\n",
    "print(beta, beta_calc)\n",
    "print(gamma, gamma_calc)"
   ]
  },
  {
   "cell_type": "markdown",
   "metadata": {},
   "source": [
    "## Translação + Rotação"
   ]
  },
  {
   "cell_type": "code",
   "execution_count": 8,
   "metadata": {},
   "outputs": [
    {
     "name": "stdout",
     "output_type": "stream",
     "text": [
      "[ 9.09807621 12.56217783  0.        ]\n"
     ]
    }
   ],
   "source": [
    "pb = np.array([3, 7, 0])\n",
    "\n",
    "pa_borg = np.array([10, 5, 0])\n",
    "\n",
    "theta = np.deg2rad(30)\n",
    "pa = Rz(theta) @ pb + pa_borg\n",
    "print(pa)"
   ]
  },
  {
   "cell_type": "markdown",
   "metadata": {},
   "source": [
    "# Para praticar\n",
    "\n",
    "- Faça diferentes testes alterando os valores dos pontos, translação e rotação\n",
    "- Nos exempplos, plote os pontos e seus respectivos sistemas de coordenadas\n",
    "- Plote a representação vetorial dos pontos resultantes dos exemplos (igual aos slides)"
   ]
  }
 ],
 "metadata": {
  "kernelspec": {
   "display_name": "Python 3",
   "language": "python",
   "name": "python3"
  },
  "language_info": {
   "codemirror_mode": {
    "name": "ipython",
    "version": 3
   },
   "file_extension": ".py",
   "mimetype": "text/x-python",
   "name": "python",
   "nbconvert_exporter": "python",
   "pygments_lexer": "ipython3",
   "version": "3.8.5"
  }
 },
 "nbformat": 4,
 "nbformat_minor": 4
}
